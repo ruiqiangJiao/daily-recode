{
  "metadata": {
    "kernelspec": {
      "name": "python3",
      "language": "python",
      "display_name": "Python 3"
    }
  },
  "cells": [
    {
      "cell_type": "raw",
      "metadata": {},
      "source": [
        "---\n",
        "title: 日常记录\n",
        "---"
      ],
      "id": "b49fcc59"
    },
    {
      "cell_type": "markdown",
      "metadata": {},
      "source": [
        "# 主页"
      ],
      "id": "c6a281bc"
    }
  ],
  "nbformat": 4,
  "nbformat_minor": 5
}
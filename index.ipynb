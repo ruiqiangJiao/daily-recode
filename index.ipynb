{
  "metadata": {
    "kernelspec": {
      "name": "python3",
      "language": "python",
      "display_name": "Python 3"
    }
  },
  "cells": [
    {
      "cell_type": "raw",
      "metadata": {},
      "source": [
        "---\n",
        "title: 日常记录\n",
        "---"
      ],
      "id": "73c82594"
    },
    {
      "cell_type": "markdown",
      "metadata": {},
      "source": [
        "# 主页"
      ],
      "id": "d8208f8f"
    }
  ],
  "nbformat": 4,
  "nbformat_minor": 5
}
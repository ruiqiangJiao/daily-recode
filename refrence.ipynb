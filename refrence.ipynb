{
  "metadata": {
    "kernelspec": {
      "name": "python3",
      "language": "python",
      "display_name": "Python 3"
    }
  },
  "cells": [
    {
      "cell_type": "raw",
      "metadata": {},
      "source": [
        "---\n",
        "title: 参考\n",
        "---"
      ],
      "id": "9cc13fc6"
    },
    {
      "cell_type": "markdown",
      "metadata": {},
      "source": [
        "[Z-Library](https://1lib.limited/s/?): 全球最大的数字图书馆\n",
        "\n",
        "\n",
        "[Computer Age Statistical Inference](https://web.stanford.edu/~hastie/CASI_files/PDF/casi.pdf)\n",
        "\n",
        "\n",
        "[ApacheCN](https://apachecn.org/)\n",
        "\n",
        "\n",
        "\n",
        "\n",
        "\n",
        "[强化学习](https://spinningup.readthedocs.io/zh_CN/latest/)\n",
        "\n",
        "\n",
        "[Mann-Kendall Test For Monotonic Trend](https://vsp.pnnl.gov/help/Vsample/Design_Trend_Mann_Kendall.htm)\n",
        "\n",
        "\n",
        "[pytorch handbook](https://github.com/zergtant/pytorch-handbook)\n",
        "\n",
        "\n",
        "[Learning from data](https://github.com/fengdu78/Learning-from-data)\n",
        "\n",
        "\n",
        "[Pytorch Tutorial](https://github.com/yunjey/pytorch-tutorial)\n"
      ],
      "id": "0b5411a6"
    }
  ],
  "nbformat": 4,
  "nbformat_minor": 5
}
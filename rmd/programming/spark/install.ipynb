{
  "metadata": {
    "kernelspec": {
      "name": "python3",
      "language": "python",
      "display_name": "Python 3"
    }
  },
  "cells": [
    {
      "cell_type": "raw",
      "metadata": {},
      "source": [
        "---\n",
        "title: 安装\n",
        "---"
      ],
      "id": "8201c2bc"
    },
    {
      "cell_type": "markdown",
      "metadata": {},
      "source": [
        "[Windows平台下单机Spark环境搭建](https://yxnchen.github.io/technique/Windows%E5%B9%B3%E5%8F%B0%E4%B8%8B%E5%8D%95%E6%9C%BASpark%E7%8E%AF%E5%A2%83%E6%90%AD%E5%BB%BA/)\n",
        "\n",
        "\n",
        "[jar 包](https://mvnrepository.com/)\n",
        "\n",
        "\n",
        "[Learning Spark](https://waltyou.github.io/Learning-Spark-0/)"
      ],
      "id": "af5c02bf"
    }
  ],
  "nbformat": 4,
  "nbformat_minor": 5
}
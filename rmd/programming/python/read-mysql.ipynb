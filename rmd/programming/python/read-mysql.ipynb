{
  "metadata": {
    "kernelspec": {
      "name": "python3",
      "language": "python",
      "display_name": "Python 3"
    }
  },
  "cells": [
    {
      "cell_type": "raw",
      "metadata": {},
      "source": [
        "---\n",
        "title: 读取 MySQL\n",
        "---"
      ],
      "id": "c19fcadf"
    },
    {
      "cell_type": "markdown",
      "metadata": {},
      "source": [
        "## 代码样例\n",
        "\n",
        "```python\n",
        "# - *- coding= utf-8 -*-\n",
        "\n",
        "import pymysql\n",
        "import pandas as pd\n",
        "from sqlalchemy import create_engine\n",
        "\n",
        "mysql_config = {\"host\": \"\", \"database\": \"\", \"user\": \"\", \"password\": \"\", \"port\": 2222}\n",
        "\n",
        "\n",
        "# 获取 mysql 数据\n",
        "def get_mysql_data(host, database, user, password, port, sql_cmd):\n",
        "    db_con = pymysql.connect(\n",
        "        host=host,\n",
        "        database=database,\n",
        "        user=user,\n",
        "        password=password,\n",
        "        port=port,\n",
        "        charset='utf8')\n",
        "    df_data = pd.read_sql(sql_cmd, db_con)\n",
        "    return df_data\n",
        "\n",
        "\n",
        "def reader_sql():\n",
        "    engine = create_engine('mysql+pymysql://{0}:{1}@{2}:{3}/{4}?charset=utf8'.format(mysql_config['user'],\n",
        "                                                                                     mysql_config['password'],\n",
        "                                                                                     mysql_config['host'],\n",
        "                                                                                     mysql_config['port'],\n",
        "                                                                                     mysql_config['database']))\n",
        "    df = pd.read_sql_query(\"select * from table_name limit 10\", engine)\n",
        "    return df\n",
        "\n",
        "\n",
        "if __name__ == '__main__':\n",
        "    df_mysql_data = get_mysql_data(host=mysql_config['host'],\n",
        "                                   database=mysql_config['database'],\n",
        "                                   user=mysql_config['user'],\n",
        "                                   password=mysql_config['password'],\n",
        "                                   port=mysql_config['port'],\n",
        "                                   sql_cmd=\"select * from table_name limit 10\")\n",
        "```\n"
      ],
      "id": "e7c91b3c"
    }
  ],
  "nbformat": 4,
  "nbformat_minor": 5
}
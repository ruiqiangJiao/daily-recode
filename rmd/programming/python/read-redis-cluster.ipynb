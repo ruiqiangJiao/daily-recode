{
  "metadata": {
    "kernelspec": {
      "name": "python3",
      "language": "python",
      "display_name": "Python 3"
    }
  },
  "cells": [
    {
      "cell_type": "raw",
      "metadata": {},
      "source": [
        "---\n",
        "title: 读取 Redis 集群\n",
        "---"
      ],
      "id": "933ff238"
    },
    {
      "cell_type": "markdown",
      "metadata": {},
      "source": [
        "## 代码样例\n",
        "\n",
        "```python\n",
        "# -*- coding=utf-8 -*-\n",
        "\n",
        "from rediscluster import StrictRedisCluster\n",
        "import TerminalLocationReport_pb2 as TerminalLocationReport\n",
        "\n",
        "\n",
        "if __name__ == '__main__':\n",
        "    nodes = [{'host': h1, 'port': p1},\n",
        "             {'host': h2, 'port': p2},\n",
        "             {'host': h3, 'port': p3}]\n",
        "    k = 'a:t'\n",
        "    redis_conn = StrictRedisCluster(startup_nodes=nodes, decode_responses=False, skip_full_coverage_check=True)\n",
        "    redis_data = redis_conn.get(k)\n",
        "    lr = TerminalLocationReport.TerminalLocationReport()\n",
        "    lr.ParseFromString(redis_data)\n",
        "```\n"
      ],
      "id": "42e6c446"
    }
  ],
  "nbformat": 4,
  "nbformat_minor": 5
}
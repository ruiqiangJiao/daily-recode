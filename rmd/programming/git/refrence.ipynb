{
  "metadata": {
    "kernelspec": {
      "name": "python3",
      "language": "python",
      "display_name": "Python 3"
    }
  },
  "cells": [
    {
      "cell_type": "raw",
      "metadata": {},
      "source": [
        "---\n",
        "title: 精通Git(第二版简体中文)\n",
        "---"
      ],
      "id": "b95e2ea1"
    },
    {
      "cell_type": "markdown",
      "metadata": {},
      "source": [
        "[精通Git(第二版简体中文)](https://github.com/GruSir/vuetest/blob/master/%E7%B2%BE%E9%80%9AGit(%E7%AC%AC%E4%BA%8C%E7%89%88%E7%AE%80%E4%BD%93%E4%B8%AD%E6%96%87).pdf)\n",
        "\n",
        "\n",
        "[Github Docs](https://docs.github.com/cn/github)"
      ],
      "id": "08633ff8"
    }
  ],
  "nbformat": 4,
  "nbformat_minor": 5
}
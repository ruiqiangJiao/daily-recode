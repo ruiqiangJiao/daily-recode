{
  "metadata": {
    "kernelspec": {
      "name": "python3",
      "language": "python",
      "display_name": "Python 3"
    }
  },
  "cells": [
    {
      "cell_type": "raw",
      "metadata": {},
      "source": [
        "---\n",
        "title: Vim\n",
        "---"
      ],
      "id": "a859338c"
    },
    {
      "cell_type": "markdown",
      "metadata": {},
      "source": [
        "[VIM 中文帮助手册](http://vimcdoc.sourceforge.net/doc/usr_toc.html)"
      ],
      "id": "7c4f01e0"
    }
  ],
  "nbformat": 4,
  "nbformat_minor": 5
}
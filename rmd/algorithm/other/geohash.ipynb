{
  "metadata": {
    "kernelspec": {
      "name": "python3",
      "language": "python",
      "display_name": "Python 3 (ipykernel)"
    }
  },
  "cells": [
    {
      "cell_type": "raw",
      "metadata": {},
      "source": [
        "---\n",
        "title: \"geohash\"\n",
        "jupyter: python3\n",
        "---"
      ],
      "id": "22f29bd5"
    },
    {
      "cell_type": "markdown",
      "metadata": {},
      "source": [
        "[GeoHash算法详解及其实现](https://luoming1224.github.io/2019/04/04/[redis%E5%AD%A6%E4%B9%A0%E7%AC%94%E8%AE%B0]GeoHash%E7%AE%97%E6%B3%95%E8%AF%A6%E8%A7%A3%E5%8F%8A%E5%85%B6%E5%AE%9E%E7%8E%B0/)\n",
        "\n",
        "\n",
        "[GeoHash原理和可视化显示](https://www.cnblogs.com/woshimrf/p/geohash-visualization.html)\n",
        "\n",
        "\n",
        "[高德 Geohash](https://lbs.amap.com/api/webservice/guide/api/georegeo)\n",
        "\n",
        "\n",
        "[geohash 精度](https://en.wikipedia.org/wiki/Geohash)\n"
      ],
      "id": "326f6dff"
    }
  ],
  "nbformat": 4,
  "nbformat_minor": 5
}
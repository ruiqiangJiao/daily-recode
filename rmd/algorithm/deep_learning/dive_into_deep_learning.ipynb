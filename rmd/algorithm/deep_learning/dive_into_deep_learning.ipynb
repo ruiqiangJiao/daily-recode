{
  "metadata": {
    "kernelspec": {
      "name": "python3",
      "language": "python",
      "display_name": "Python 3"
    }
  },
  "cells": [
    {
      "cell_type": "raw",
      "metadata": {},
      "source": [
        "---\n",
        "title: 动手学深度学习\n",
        "---"
      ],
      "id": "bd0e96df"
    },
    {
      "cell_type": "markdown",
      "metadata": {},
      "source": [
        "[《动手学深度学习》](http://tangshusen.me/Dive-into-DL-PyTorch/#/): 《Dive into Deep Learning》原书中的MXNet实现改为PyTorch实现"
      ],
      "id": "e24f6dfd"
    }
  ],
  "nbformat": 4,
  "nbformat_minor": 5
}
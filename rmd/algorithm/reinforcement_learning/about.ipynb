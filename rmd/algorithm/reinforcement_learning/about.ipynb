{
  "metadata": {
    "kernelspec": {
      "name": "python3",
      "language": "python",
      "display_name": "Python 3"
    }
  },
  "cells": [
    {
      "cell_type": "raw",
      "metadata": {},
      "source": [
        "---\n",
        "title: 关于\n",
        "---"
      ],
      "id": "b1c2e4b8"
    }
  ],
  "nbformat": 4,
  "nbformat_minor": 5
}
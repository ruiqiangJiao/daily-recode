{
  "metadata": {
    "kernelspec": {
      "name": "python3",
      "language": "python",
      "display_name": "Python 3"
    }
  },
  "cells": [
    {
      "cell_type": "raw",
      "metadata": {},
      "source": [
        "---\n",
        "title: The Elements of Statistical Learning\n",
        "---"
      ],
      "id": "bc06db3c"
    },
    {
      "cell_type": "markdown",
      "metadata": {},
      "source": [
        "[The Elements of Statistical Learning](https://esl.hohoweiya.xyz/)"
      ],
      "id": "bce96ff9"
    }
  ],
  "nbformat": 4,
  "nbformat_minor": 5
}
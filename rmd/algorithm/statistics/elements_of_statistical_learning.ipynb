{
  "metadata": {
    "kernelspec": {
      "name": "python3",
      "language": "python",
      "display_name": "Python 3"
    }
  },
  "cells": [
    {
      "cell_type": "raw",
      "metadata": {},
      "source": [
        "---\n",
        "title: The Elements of Statistical Learning\n",
        "---"
      ],
      "id": "bebe7c05"
    },
    {
      "cell_type": "markdown",
      "metadata": {},
      "source": [
        "[The Elements of Statistical Learning](https://esl.hohoweiya.xyz/)"
      ],
      "id": "a68dbc08"
    }
  ],
  "nbformat": 4,
  "nbformat_minor": 5
}
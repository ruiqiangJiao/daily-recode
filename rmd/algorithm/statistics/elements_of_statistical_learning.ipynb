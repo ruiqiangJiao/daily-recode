{
  "metadata": {
    "kernelspec": {
      "name": "python3",
      "language": "python",
      "display_name": "Python 3"
    }
  },
  "cells": [
    {
      "cell_type": "raw",
      "metadata": {},
      "source": [
        "---\n",
        "title: The Elements of Statistical Learning\n",
        "---"
      ],
      "id": "910d7422"
    },
    {
      "cell_type": "markdown",
      "metadata": {},
      "source": [
        "[The Elements of Statistical Learning](https://esl.hohoweiya.xyz/)"
      ],
      "id": "240e2c1b"
    }
  ],
  "nbformat": 4,
  "nbformat_minor": 5
}
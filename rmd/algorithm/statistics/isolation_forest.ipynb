{
  "metadata": {
    "kernelspec": {
      "name": "python3",
      "language": "python",
      "display_name": "Python 3"
    }
  },
  "cells": [
    {
      "cell_type": "raw",
      "metadata": {},
      "source": [
        "---\n",
        "title: 孤立森林\n",
        "---"
      ],
      "id": "7dd23799"
    },
    {
      "cell_type": "markdown",
      "metadata": {},
      "source": [
        "[孤立森林](https://cs.nju.edu.cn/zhouzh/zhouzh.files/publication/icdm08b.pdf)\n",
        "\n",
        "[孤立森林扩展](https://arxiv.org/pdf/1811.02141.pdf)\n",
        "\n",
        "[代码](https://github.com/sahandha/eif)"
      ],
      "id": "f127c480"
    }
  ],
  "nbformat": 4,
  "nbformat_minor": 5
}
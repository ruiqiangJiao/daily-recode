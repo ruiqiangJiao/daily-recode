{
  "metadata": {
    "kernelspec": {
      "name": "python3",
      "language": "python",
      "display_name": "Python 3"
    }
  },
  "cells": [
    {
      "cell_type": "raw",
      "metadata": {},
      "source": [
        "---\n",
        "title: 孤立森林\n",
        "---"
      ],
      "id": "4c00ad45"
    },
    {
      "cell_type": "markdown",
      "metadata": {},
      "source": [
        "[孤立森林](https://cs.nju.edu.cn/zhouzh/zhouzh.files/publication/icdm08b.pdf)\n",
        "\n",
        "[孤立森林扩展](https://arxiv.org/pdf/1811.02141.pdf)\n",
        "\n",
        "[代码](https://github.com/sahandha/eif)"
      ],
      "id": "1d0f82a4"
    }
  ],
  "nbformat": 4,
  "nbformat_minor": 5
}
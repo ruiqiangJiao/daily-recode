{
  "metadata": {
    "kernelspec": {
      "name": "python3",
      "language": "python",
      "display_name": "Python 3"
    }
  },
  "cells": [
    {
      "cell_type": "raw",
      "metadata": {},
      "source": [
        "---\n",
        "title: 局部离群因子\n",
        "---"
      ],
      "id": "30c74a82"
    },
    {
      "cell_type": "markdown",
      "metadata": {},
      "source": [
        "[局部离群因子](https://www.dbs.ifi.lmu.de/Publikationen/Papers/LOF.pdf)"
      ],
      "id": "2a6d5338"
    }
  ],
  "nbformat": 4,
  "nbformat_minor": 5
}
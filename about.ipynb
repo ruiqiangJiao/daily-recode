{
  "metadata": {
    "kernelspec": {
      "name": "python3",
      "language": "python",
      "display_name": "Python 3"
    }
  },
  "cells": [
    {
      "cell_type": "raw",
      "metadata": {},
      "source": [
        "---\n",
        "title: 关于\n",
        "---"
      ],
      "id": "c7be9c46"
    }
  ],
  "nbformat": 4,
  "nbformat_minor": 5
}